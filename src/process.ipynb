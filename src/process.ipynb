{
 "cells": [
  {
   "cell_type": "code",
   "execution_count": 1,
   "metadata": {},
   "outputs": [],
   "source": [
    "import pandas as pd \n",
    "import numpy as np \n",
    "import os "
   ]
  },
  {
   "cell_type": "markdown",
   "metadata": {},
   "source": [
    "## Generate Dataframe"
   ]
  },
  {
   "cell_type": "code",
   "execution_count": 2,
   "metadata": {},
   "outputs": [],
   "source": [
    "DATASET_DIR = os.path.join(os.getcwd(), \"..\", \"data\", \"images\", \"Dataset\")\n",
    "\n",
    "def get_dir_path(image_category: str, image_class: str):\n",
    "  # image_category : {\"Test\", \"Train\", \"Valid\"}\n",
    "  # image_class : {\"Fake\", \"Real\"}\n",
    "  return os.path.join(DATASET_DIR, image_category.title(), image_class.title())"
   ]
  },
  {
   "cell_type": "code",
   "execution_count": 24,
   "metadata": {},
   "outputs": [],
   "source": [
    "# Random pick for image to be used\n",
    "\n",
    "amount_test = amount_valid = 200\n",
    "amount_train = 1000\n",
    "\n",
    "bound_test = bound_valid = 1000\n",
    "bound_train = 5000\n",
    "\n",
    "import random\n",
    "\n",
    "# Create a little imbalance for test data\n",
    "test_real_amount = random.randint(round(0.375*amount_test), round(0.625*amount_test))\n",
    "test_fake_amount = amount_test - test_real_amount\n",
    "test_real_id = random.sample(range(1, bound_test), test_real_amount)\n",
    "test_fake_id = random.sample(range(1, bound_test), test_fake_amount)\n",
    "\n",
    "# Balanced data for train data\n",
    "train_real_amount = train_fake_amount = amount_train//2\n",
    "train_real_id = random.sample(range(1, bound_train), train_real_amount)\n",
    "train_fake_id = random.sample(range(1, bound_train), train_fake_amount)\n",
    "\n",
    "# Create a little imbalance for valid data\n",
    "valid_real_amount = random.randint(round(0.4*amount_valid), round(0.6*amount_valid))\n",
    "valid_fake_amount = amount_valid - valid_real_amount\n",
    "valid_real_id = random.sample(range(1, bound_valid), valid_real_amount)\n",
    "valid_fake_id = random.sample(range(1, bound_valid), valid_fake_amount)"
   ]
  },
  {
   "cell_type": "code",
   "execution_count": 25,
   "metadata": {},
   "outputs": [],
   "source": [
    "# Make dataframe consist of: {path, label}\n",
    "\n",
    "def make_df(category: str, images_list_real:list, images_list_fake: list):\n",
    "  # category : {\"Test\", \"Train\", \"Valid\"}\n",
    "  fake_dir = get_dir_path(category, \"Fake\")\n",
    "  real_dir = get_dir_path(category, \"Real\")\n",
    "\n",
    "  data = []\n",
    "  for img_name in images_list_real:\n",
    "    img_path = os.path.join(real_dir, f\"real_{img_name}.jpg\")\n",
    "    temp_data = {\"path\": img_path, \"label\": 0}\n",
    "    data.append(temp_data)\n",
    "\n",
    "  for img_name in images_list_fake:\n",
    "    img_path = os.path.join(fake_dir, f\"fake_{img_name}.jpg\")\n",
    "    temp_data = {\"path\": img_path, \"label\": 1}\n",
    "    data.append(temp_data)\n",
    "\n",
    "  random.shuffle(data)\n",
    "\n",
    "  return pd.DataFrame(data)\n",
    "\n",
    "df_test = make_df(\"Test\", test_real_id, test_fake_id)\n",
    "df_train = make_df(\"Train\", train_real_id, train_fake_id)\n",
    "df_valid = make_df(\"Valid\", valid_real_id, valid_fake_id)"
   ]
  },
  {
   "cell_type": "code",
   "execution_count": null,
   "metadata": {},
   "outputs": [],
   "source": []
  }
 ],
 "metadata": {
  "kernelspec": {
   "display_name": "Python 3",
   "language": "python",
   "name": "python3"
  },
  "language_info": {
   "codemirror_mode": {
    "name": "ipython",
    "version": 3
   },
   "file_extension": ".py",
   "mimetype": "text/x-python",
   "name": "python",
   "nbconvert_exporter": "python",
   "pygments_lexer": "ipython3",
   "version": "3.11.3"
  }
 },
 "nbformat": 4,
 "nbformat_minor": 2
}
